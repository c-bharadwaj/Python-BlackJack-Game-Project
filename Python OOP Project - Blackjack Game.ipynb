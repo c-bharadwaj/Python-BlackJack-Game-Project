{
 "cells": [
  {
   "cell_type": "markdown",
   "metadata": {},
   "source": [
    "<img src=\"https://zone.msn.com/images/v9/en-us/game/bljk/640x345_bljk.png\">"
   ]
  },
  {
   "cell_type": "markdown",
   "metadata": {},
   "source": [
    "### 1. IMPORTS AND GLOBAL VARIABLES:"
   ]
  },
  {
   "cell_type": "code",
   "execution_count": 7,
   "metadata": {},
   "outputs": [],
   "source": [
    "import random"
   ]
  },
  {
   "cell_type": "markdown",
   "metadata": {},
   "source": [
    "#### 1.1 GLOBAL VARIABLES"
   ]
  },
  {
   "cell_type": "code",
   "execution_count": 8,
   "metadata": {},
   "outputs": [],
   "source": [
    "suits = ('Hearts', 'Diamonds', 'Spades', 'Clubs')\n",
    "ranks = ('Two', 'Three', 'Four', 'Five', 'Six', 'Seven', 'Eight', 'Nine', 'Ten', 'Jack', 'Queen', 'King', 'Ace')\n",
    "values = {'Two':2, 'Three':3, 'Four':4, 'Five':5, 'Six':6, 'Seven':7, 'Eight':8, \n",
    "          'Nine':9, 'Ten':10, 'Jack':10, 'Queen':10, 'King':10, 'Ace':11}"
   ]
  },
  {
   "cell_type": "markdown",
   "metadata": {},
   "source": [
    "#### 1.2 VARIABLE FOR CONTROL FLOW IN WHILE LOOPS:"
   ]
  },
  {
   "cell_type": "code",
   "execution_count": 9,
   "metadata": {},
   "outputs": [],
   "source": [
    "playing = True"
   ]
  },
  {
   "cell_type": "markdown",
   "metadata": {},
   "source": [
    "### 2. CLASSES:"
   ]
  },
  {
   "cell_type": "markdown",
   "metadata": {},
   "source": [
    "#### 2.1 CARD CLASS:"
   ]
  },
  {
   "cell_type": "code",
   "execution_count": 28,
   "metadata": {},
   "outputs": [],
   "source": [
    "class Card():\n",
    "    \n",
    "    def __init__(self,suit,rank):\n",
    "        self.suit = suit\n",
    "        self.rank = rank\n",
    "    \n",
    "    def __str__(self):\n",
    "        return self.rank + ' of ' + self.suit"
   ]
  },
  {
   "cell_type": "markdown",
   "metadata": {},
   "source": [
    "#### 2.2 DECK CLASS:"
   ]
  },
  {
   "cell_type": "code",
   "execution_count": 11,
   "metadata": {},
   "outputs": [],
   "source": [
    "class Deck():\n",
    "    \n",
    "    def __init__(self):\n",
    "        \n",
    "        self.deck = []\n",
    "        \n",
    "        for suit in suits:\n",
    "            for rank in ranks:\n",
    "                self.deck.append(Card(suit,rank))\n",
    "    \n",
    "    def __str__(self):\n",
    "        \n",
    "        deck_card_list = ''\n",
    "        \n",
    "        for card in self.deck:\n",
    "            deck_card_list += '\\n' + card.__str__()\n",
    "        return 'The deck has: ' + deck_card_list\n",
    "    \n",
    "    def shuffle(self):\n",
    "        random.shuffle(self.deck) # No return, as this should happen in-place.\n",
    "    \n",
    "    def deal(self):\n",
    "        card = self.deck.pop()\n",
    "        return card"
   ]
  },
  {
   "cell_type": "code",
   "execution_count": 16,
   "metadata": {},
   "outputs": [],
   "source": [
    "# Testing the Deck Class\n",
    "\n",
    "test_deck = Deck()\n",
    "#print(test_deck)"
   ]
  },
  {
   "cell_type": "code",
   "execution_count": 17,
   "metadata": {},
   "outputs": [],
   "source": [
    "# Testing the Deck Shuffle\n",
    "\n",
    "test_deck.shuffle()\n",
    "#print(test_deck)"
   ]
  },
  {
   "cell_type": "markdown",
   "metadata": {},
   "source": [
    "#### 2.3 HAND CLASS:"
   ]
  },
  {
   "cell_type": "code",
   "execution_count": 26,
   "metadata": {},
   "outputs": [],
   "source": [
    "# Represents what cards are in someone's hand (Dealer or Player). \n",
    "# Also, it will adjust the value of Aces when appropriate.\n",
    "\n",
    "class Hand():\n",
    "    \n",
    "    def __init__(self):\n",
    "        self.cards = []\n",
    "        self.value = 0\n",
    "        self.aces = 0 # attribute to keep track of aces\n",
    "    \n",
    "    def add_card(self,card):\n",
    "        self.cards.append(card) # card passed in is from Deck.deal(). Deck.deal() is a single card object Card(suit,rank)\n",
    "        self.value += values[card.rank]\n",
    "    \n",
    "        if card.rank == 'Ace': # tracking for aces\n",
    "            self.aces += 1     \n",
    "    \n",
    "    def adjust_for_ace(self):\n",
    "        while self.value > 21 and self.aces: # 0 is going to be treated as False and other numbers not 0 are True.\n",
    "            self.value -= 10\n",
    "            self.aces -= 1"
   ]
  },
  {
   "cell_type": "markdown",
   "metadata": {},
   "source": [
    "#### 2.4 CHIPS CLASS:"
   ]
  },
  {
   "cell_type": "code",
   "execution_count": 22,
   "metadata": {},
   "outputs": [],
   "source": [
    "class Chips():\n",
    "    \n",
    "    def __init__(self,total=100):\n",
    "        self.total = total # This can be set to a default value or supplied by a user input\n",
    "        self.bet = 0\n",
    "    \n",
    "    def win_bet(self):\n",
    "        self.total += self.bet\n",
    "    \n",
    "    def lose_bet(self):\n",
    "        self.total -= self.bet"
   ]
  },
  {
   "cell_type": "markdown",
   "metadata": {},
   "source": [
    "### 3. FUNCTIONS:"
   ]
  },
  {
   "cell_type": "markdown",
   "metadata": {},
   "source": [
    "#### 3.1 FUNCTION FOR TAKING BETS"
   ]
  },
  {
   "cell_type": "code",
   "execution_count": 29,
   "metadata": {},
   "outputs": [],
   "source": [
    "# Since we are asking the player for an integer value, this would be a good place to use try/except.\n",
    "\n",
    "def take_bet(chips):\n",
    "    \n",
    "    while True:\n",
    "        \n",
    "        try:\n",
    "            chips.bet = int(input(\"\\n How many chips would you like to bet? \"))\n",
    "        \n",
    "        except:\n",
    "            print(\"Sorry, please provide an integer\")\n",
    "        \n",
    "        else: \n",
    "            if chips.bet > chips.total:\n",
    "                print(\"Sorry, you do not have enough chips to bet! You have: {}\".format(chips.total))\n",
    "            else:\n",
    "                break"
   ]
  },
  {
   "cell_type": "markdown",
   "metadata": {},
   "source": [
    "#### 3.2 FUNCTION FOR TAKING HITS:"
   ]
  },
  {
   "cell_type": "code",
   "execution_count": 30,
   "metadata": {},
   "outputs": [],
   "source": [
    "# This function will be called during gameplay when the player requests a hit or the dealer's hand is less than 17.\n",
    "# Take in the Deck and Hand objects and 1 card dealt in the deck class will get added to the Hand and check for Aces.\n",
    "\n",
    "def hit(deck,hand):\n",
    "    \n",
    "    popped_card = deck.deal()\n",
    "    hand.add_card(popped_card)\n",
    "    hand.adjust_for_ace()"
   ]
  },
  {
   "cell_type": "markdown",
   "metadata": {},
   "source": [
    "#### 3.3 FUNCTION TO PROMPT THE PLAYER TO HIT OR STAND:"
   ]
  },
  {
   "cell_type": "code",
   "execution_count": 28,
   "metadata": {},
   "outputs": [],
   "source": [
    "def hit_or_stand(deck,hand):\n",
    "    \n",
    "    global playing # to control an upcoming while loop\n",
    "    \n",
    "    while True:\n",
    "        x = input(\"Hit or Stand? Enter h or s \")\n",
    "        \n",
    "        if x[0].lower() == 'h':\n",
    "            hit(deck,hand)\n",
    "        \n",
    "        elif x[0].lower() == 's':\n",
    "            print(\"Player Stands. Dealer's Turn \")\n",
    "            playing = False\n",
    "        \n",
    "        else:\n",
    "            print(\"Sorry, I did not understand that, Please enter h or s only!\")\n",
    "            continue\n",
    "        \n",
    "        break"
   ]
  },
  {
   "cell_type": "markdown",
   "metadata": {},
   "source": [
    "#### 3.4 FUNCTION TO DISPLAY CARDS:"
   ]
  },
  {
   "cell_type": "code",
   "execution_count": 31,
   "metadata": {},
   "outputs": [],
   "source": [
    "def show_some(player,dealer):\n",
    "    print(\"\\nDealer's Hand:\")\n",
    "    print(\" <card hidden>\")\n",
    "    print('',dealer.cards[1])  \n",
    "    print(\"\\nPlayer's Hand:\", *player.cards, sep='\\n ')\n",
    "    \n",
    "def show_all(player,dealer):\n",
    "    print(\"\\nDealer's Hand:\", *dealer.cards, sep='\\n ')\n",
    "    print(\"Dealer's Hand =\",dealer.value)\n",
    "    print(\"\\nPlayer's Hand:\", *player.cards, sep='\\n ')\n",
    "    print(\"Player's Hand =\",player.value)"
   ]
  },
  {
   "cell_type": "markdown",
   "metadata": {},
   "source": [
    "#### 3.5 FUNCTIONS FOR END OF GAME SCENARIOS:"
   ]
  },
  {
   "cell_type": "code",
   "execution_count": 32,
   "metadata": {},
   "outputs": [],
   "source": [
    "def player_busts(player,dealer,chips):\n",
    "    print(\"Player Busted!\")\n",
    "    chips.lose_bet()\n",
    "\n",
    "def player_wins(player,dealer,chips):\n",
    "    print(\"Player Wins!\")\n",
    "    chips.win_bet()\n",
    "\n",
    "def dealer_busts(player,dealer,chips):\n",
    "    print(\"Player Wins! Dealer Busted!\")\n",
    "    chips.win_bet()\n",
    "\n",
    "def dealer_wins(player,dealer,chips):\n",
    "    chips.lose_bet()\n",
    "\n",
    "def push(player,dealer):\n",
    "    print('Dealer and Player tie! PUSH')"
   ]
  },
  {
   "cell_type": "markdown",
   "metadata": {},
   "source": [
    "### 4. GAME LOGIC:"
   ]
  },
  {
   "cell_type": "code",
   "execution_count": 34,
   "metadata": {},
   "outputs": [
    {
     "name": "stdout",
     "output_type": "stream",
     "text": [
      "WELCOME TO BLACKJACK!\n",
      "\n",
      " How many chips would you like to bet? 10\n",
      "\n",
      "Dealer's Hand:\n",
      " <card hidden>\n",
      " Nine of Hearts\n",
      "\n",
      "Player's Hand:\n",
      " King of Clubs\n",
      " Ten of Spades\n",
      "Hit or Stand? Enter h or s s\n",
      "Player Stands. Dealer's Turn \n",
      "\n",
      "Dealer's Hand:\n",
      " <card hidden>\n",
      " Nine of Hearts\n",
      "\n",
      "Player's Hand:\n",
      " King of Clubs\n",
      " Ten of Spades\n",
      "\n",
      "Dealer's Hand:\n",
      " Seven of Clubs\n",
      " Nine of Hearts\n",
      " King of Hearts\n",
      "Dealer's Hand = 26\n",
      "\n",
      "Player's Hand:\n",
      " King of Clubs\n",
      " Ten of Spades\n",
      "Player's Hand = 20\n",
      "Player Wins! Dealer Busted!\n",
      "\n",
      " Player's total chips are at: 110\n",
      "Would you like to play another hand? y/n: y\n",
      "WELCOME TO BLACKJACK!\n",
      "\n",
      " How many chips would you like to bet? 100\n",
      "\n",
      "Dealer's Hand:\n",
      " <card hidden>\n",
      " Three of Hearts\n",
      "\n",
      "Player's Hand:\n",
      " Three of Clubs\n",
      " Ace of Spades\n",
      "Hit or Stand? Enter h or s h\n",
      "\n",
      "Dealer's Hand:\n",
      " <card hidden>\n",
      " Three of Hearts\n",
      "\n",
      "Player's Hand:\n",
      " Three of Clubs\n",
      " Ace of Spades\n",
      " Three of Diamonds\n",
      "Hit or Stand? Enter h or s h\n",
      "\n",
      "Dealer's Hand:\n",
      " <card hidden>\n",
      " Three of Hearts\n",
      "\n",
      "Player's Hand:\n",
      " Three of Clubs\n",
      " Ace of Spades\n",
      " Three of Diamonds\n",
      " Ten of Spades\n",
      "Hit or Stand? Enter h or s s\n",
      "Player Stands. Dealer's Turn \n",
      "\n",
      "Dealer's Hand:\n",
      " <card hidden>\n",
      " Three of Hearts\n",
      "\n",
      "Player's Hand:\n",
      " Three of Clubs\n",
      " Ace of Spades\n",
      " Three of Diamonds\n",
      " Ten of Spades\n",
      "\n",
      "Dealer's Hand:\n",
      " King of Hearts\n",
      " Three of Hearts\n",
      " Four of Spades\n",
      "Dealer's Hand = 17\n",
      "\n",
      "Player's Hand:\n",
      " Three of Clubs\n",
      " Ace of Spades\n",
      " Three of Diamonds\n",
      " Ten of Spades\n",
      "Player's Hand = 17\n",
      "Dealer and Player tie! PUSH\n",
      "\n",
      " Player's total chips are at: 100\n",
      "Would you like to play another hand? y/n: n\n",
      "Thank you for playing!\n"
     ]
    }
   ],
   "source": [
    "while True:\n",
    "    \n",
    "    print(\"WELCOME TO BLACKJACK!\")\n",
    "    \n",
    "    # Create deck, shuffle it, deal two cards to each player\n",
    "    \n",
    "    deck = Deck()\n",
    "    deck.shuffle()\n",
    "    \n",
    "    player_hand = Hand()\n",
    "    player_hand.add_card(deck.deal())\n",
    "    player_hand.add_card(deck.deal())\n",
    "    \n",
    "    dealer_hand = Hand()\n",
    "    dealer_hand.add_card(deck.deal())\n",
    "    dealer_hand.add_card(deck.deal())\n",
    "    \n",
    "    # Set up player's chips\n",
    "    \n",
    "    player_chips = Chips()\n",
    "    \n",
    "    # Prompt player for their bet\n",
    "    \n",
    "    take_bet(player_chips)\n",
    "    \n",
    "    # Show cards (but keep one dealer card hidden)\n",
    "    \n",
    "    show_some(player_hand,dealer_hand)\n",
    "    \n",
    "    while playing:\n",
    "        \n",
    "        # Prompt player to hit or stand\n",
    "        \n",
    "        hit_or_stand(deck,player_hand)\n",
    "        \n",
    "        # Show cards but keep one dealer card hidden\n",
    "        \n",
    "        show_some(player_hand,dealer_hand)\n",
    "        \n",
    "        # If player's hand exceeds 21, run player_busts() and break out of loop\n",
    "        \n",
    "        if player_hand.value > 21:\n",
    "            player_busts(player_hand,dealer_hand,player_chips)\n",
    "            \n",
    "            break\n",
    "    \n",
    "    # If player hasn't busted, play Dealer's hand until Dealer reaches 17 (soft 17 strategy)\n",
    "    \n",
    "    if player_hand.value <= 21:\n",
    "        \n",
    "        while dealer_hand.value < 17:\n",
    "            hit(deck,dealer_hand)\n",
    "        \n",
    "        # Show all cards\n",
    "        show_all(player_hand,dealer_hand) \n",
    "        \n",
    "        # Run different winning scenarios:\n",
    "        \n",
    "        if dealer_hand.value > 21:\n",
    "            dealer_busts(player_hand, dealer_hand, player_chips)\n",
    "            \n",
    "        elif dealer_hand.value > player_hand.value:\n",
    "            dealer_wins(player_hand, dealer_hand, player_chips)\n",
    "            \n",
    "        elif dealer_hand.value < player_hand.value:\n",
    "            player_wins(player_hand,dealer_hand,player_chips)\n",
    "            \n",
    "        else:\n",
    "            push(player_hand,dealer_hand)\n",
    "            \n",
    "    # Inform players of their remaining chips total:\n",
    "    \n",
    "    print(\"\\n Player's total chips are at: {}\".format(player_chips.total))\n",
    "    \n",
    "    # Ask if they want to play again\n",
    "    \n",
    "    new_game = input(\"Would you like to play another hand? y/n: \")\n",
    "    \n",
    "    if new_game[0].lower() == 'y':\n",
    "        playing = True\n",
    "        continue\n",
    "        \n",
    "    else:\n",
    "        print(\"Thank you for playing!\")\n",
    "        break"
   ]
  }
 ],
 "metadata": {
  "kernelspec": {
   "display_name": "Python 3",
   "language": "python",
   "name": "python3"
  },
  "language_info": {
   "codemirror_mode": {
    "name": "ipython",
    "version": 3
   },
   "file_extension": ".py",
   "mimetype": "text/x-python",
   "name": "python",
   "nbconvert_exporter": "python",
   "pygments_lexer": "ipython3",
   "version": "3.7.9"
  }
 },
 "nbformat": 4,
 "nbformat_minor": 4
}
